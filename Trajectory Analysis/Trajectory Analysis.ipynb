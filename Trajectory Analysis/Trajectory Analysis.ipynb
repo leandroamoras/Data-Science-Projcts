{
 "metadata": {
  "language_info": {
   "codemirror_mode": {
    "name": "ipython",
    "version": 3
   },
   "file_extension": ".py",
   "mimetype": "text/x-python",
   "name": "python",
   "nbconvert_exporter": "python",
   "pygments_lexer": "ipython3",
   "version": "3.8.5"
  },
  "orig_nbformat": 2,
  "kernelspec": {
   "name": "python385jvsc74a57bd0ca34df00d1e754fde3845ceea24766584e7968b90436142869befbf1843bbcea",
   "display_name": "Python 3.8.5 64-bit ('base': conda)"
  }
 },
 "nbformat": 4,
 "nbformat_minor": 2,
 "cells": [
  {
   "source": [
    "# Introdução"
   ],
   "cell_type": "markdown",
   "metadata": {}
  },
  {
   "cell_type": "code",
   "execution_count": null,
   "metadata": {},
   "outputs": [],
   "source": []
  },
  {
   "cell_type": "code",
   "execution_count": 7,
   "metadata": {},
   "outputs": [],
   "source": [
    "import pandas as pd\n",
    "import numpy as np\n",
    "import matplotlib.pyplot as plt\n",
    "import mplleaflet as mpl\n",
    "import random\n",
    "import folium\n",
    "import seaborn as sns\n",
    "from tqdm.notebook import tqdm\n",
    "%matplotlib inline"
   ]
  },
  {
   "source": [
    "# Dataset"
   ],
   "cell_type": "markdown",
   "metadata": {}
  },
  {
   "cell_type": "code",
   "execution_count": null,
   "metadata": {},
   "outputs": [],
   "source": []
  },
  {
   "cell_type": "code",
   "execution_count": 1,
   "metadata": {},
   "outputs": [],
   "source": [
    "#selecionando a tabela de New York City\n",
    "filename = 'dataset_TSMC2014_NYC.csv'"
   ]
  },
  {
   "cell_type": "code",
   "execution_count": 10,
   "metadata": {},
   "outputs": [
    {
     "output_type": "execute_result",
     "data": {
      "text/plain": [
       "   userId                   venueId           venueCategoryId  \\\n",
       "0     470  49bbd6c0f964a520f4531fe3  4bf58dd8d48988d127951735   \n",
       "1     979  4a43c0aef964a520c6a61fe3  4bf58dd8d48988d1df941735   \n",
       "2      69  4c5cc7b485a1e21e00d35711  4bf58dd8d48988d103941735   \n",
       "3     395  4bc7086715a7ef3bef9878da  4bf58dd8d48988d104941735   \n",
       "4      87  4cf2c5321d18a143951b5cec  4bf58dd8d48988d1cb941735   \n",
       "\n",
       "         venueCategory   latitude  longitude  timezoneOffset  \\\n",
       "0  Arts & Crafts Store  40.719810 -74.002581            -240   \n",
       "1               Bridge  40.606800 -74.044170            -240   \n",
       "2       Home (private)  40.716162 -73.883070            -240   \n",
       "3       Medical Center  40.745164 -73.982519            -240   \n",
       "4           Food Truck  40.740104 -73.989658            -240   \n",
       "\n",
       "               utcTimestamp  \n",
       "0 2012-04-03 18:00:09+00:00  \n",
       "1 2012-04-03 18:00:25+00:00  \n",
       "2 2012-04-03 18:02:24+00:00  \n",
       "3 2012-04-03 18:02:41+00:00  \n",
       "4 2012-04-03 18:03:00+00:00  "
      ],
      "text/html": "<div>\n<style scoped>\n    .dataframe tbody tr th:only-of-type {\n        vertical-align: middle;\n    }\n\n    .dataframe tbody tr th {\n        vertical-align: top;\n    }\n\n    .dataframe thead th {\n        text-align: right;\n    }\n</style>\n<table border=\"1\" class=\"dataframe\">\n  <thead>\n    <tr style=\"text-align: right;\">\n      <th></th>\n      <th>userId</th>\n      <th>venueId</th>\n      <th>venueCategoryId</th>\n      <th>venueCategory</th>\n      <th>latitude</th>\n      <th>longitude</th>\n      <th>timezoneOffset</th>\n      <th>utcTimestamp</th>\n    </tr>\n  </thead>\n  <tbody>\n    <tr>\n      <th>0</th>\n      <td>470</td>\n      <td>49bbd6c0f964a520f4531fe3</td>\n      <td>4bf58dd8d48988d127951735</td>\n      <td>Arts &amp; Crafts Store</td>\n      <td>40.719810</td>\n      <td>-74.002581</td>\n      <td>-240</td>\n      <td>2012-04-03 18:00:09+00:00</td>\n    </tr>\n    <tr>\n      <th>1</th>\n      <td>979</td>\n      <td>4a43c0aef964a520c6a61fe3</td>\n      <td>4bf58dd8d48988d1df941735</td>\n      <td>Bridge</td>\n      <td>40.606800</td>\n      <td>-74.044170</td>\n      <td>-240</td>\n      <td>2012-04-03 18:00:25+00:00</td>\n    </tr>\n    <tr>\n      <th>2</th>\n      <td>69</td>\n      <td>4c5cc7b485a1e21e00d35711</td>\n      <td>4bf58dd8d48988d103941735</td>\n      <td>Home (private)</td>\n      <td>40.716162</td>\n      <td>-73.883070</td>\n      <td>-240</td>\n      <td>2012-04-03 18:02:24+00:00</td>\n    </tr>\n    <tr>\n      <th>3</th>\n      <td>395</td>\n      <td>4bc7086715a7ef3bef9878da</td>\n      <td>4bf58dd8d48988d104941735</td>\n      <td>Medical Center</td>\n      <td>40.745164</td>\n      <td>-73.982519</td>\n      <td>-240</td>\n      <td>2012-04-03 18:02:41+00:00</td>\n    </tr>\n    <tr>\n      <th>4</th>\n      <td>87</td>\n      <td>4cf2c5321d18a143951b5cec</td>\n      <td>4bf58dd8d48988d1cb941735</td>\n      <td>Food Truck</td>\n      <td>40.740104</td>\n      <td>-73.989658</td>\n      <td>-240</td>\n      <td>2012-04-03 18:03:00+00:00</td>\n    </tr>\n  </tbody>\n</table>\n</div>"
     },
     "metadata": {},
     "execution_count": 10
    }
   ],
   "source": [
    "#Convertendo os dados tipo UTC para data/hora\n",
    "#%%time\n",
    "df = pd.read_csv(filename, parse_dates=['utcTimestamp'])\n",
    "df.head()"
   ]
  },
  {
   "cell_type": "code",
   "execution_count": 13,
   "metadata": {},
   "outputs": [
    {
     "output_type": "execute_result",
     "data": {
      "text/plain": [
       "(227428, 8)"
      ]
     },
     "metadata": {},
     "execution_count": 13
    }
   ],
   "source": [
    "df.shape"
   ]
  },
  {
   "source": [
    "### Vamos trabalhar com 20 registros apenas"
   ],
   "cell_type": "markdown",
   "metadata": {}
  },
  {
   "cell_type": "code",
   "execution_count": 18,
   "metadata": {},
   "outputs": [
    {
     "output_type": "execute_result",
     "data": {
      "text/plain": [
       "1083"
      ]
     },
     "metadata": {},
     "execution_count": 18
    }
   ],
   "source": [
    "#Número de usuários\n",
    "df['userId'].nunique()"
   ]
  },
  {
   "cell_type": "code",
   "execution_count": 25,
   "metadata": {},
   "outputs": [
    {
     "output_type": "stream",
     "name": "stdout",
     "text": [
      "[386, 856, 512, 371, 675, 218, 308, 1004, 980, 1075, 822, 725, 40, 830, 466, 787, 1032, 278, 94, 450]\n"
     ]
    }
   ],
   "source": [
    "#selecionado aleatóriamente 20 ids de usuários\n",
    "users = random.sample(list(df['userId'].unique()),20)\n",
    "print(users)"
   ]
  },
  {
   "cell_type": "code",
   "execution_count": 28,
   "metadata": {},
   "outputs": [
    {
     "output_type": "stream",
     "name": "stdout",
     "text": [
      "Int64Index([     0,      1,      2,      3,      4,      5,      6,      7,\n                 8,      9,\n            ...\n            227418, 227419, 227420, 227421, 227422, 227423, 227424, 227425,\n            227426, 227427],\n           dtype='int64', length=223160)\n"
     ]
    }
   ],
   "source": [
    "#selecionando todos usuários que não estão na lista aleatória\n",
    "user_to_drop = df[df['userId'].isin(users)==False].index\n",
    "print(user_to_drop)"
   ]
  },
  {
   "cell_type": "code",
   "execution_count": 29,
   "metadata": {},
   "outputs": [],
   "source": [
    "#dropando os usuários que não estão na lista\n",
    "df.drop(user_to_drop, inplace=True)"
   ]
  },
  {
   "cell_type": "code",
   "execution_count": 30,
   "metadata": {},
   "outputs": [
    {
     "output_type": "execute_result",
     "data": {
      "text/plain": [
       "20"
      ]
     },
     "metadata": {},
     "execution_count": 30
    }
   ],
   "source": [
    "#Conferindo se o dataset foi reduzido\n",
    "df['userId'].nunique()"
   ]
  },
  {
   "source": [
    "### Ordenação dos dados <br>\n",
    "Ao trabalhar com dados de trajetória, é recomendando sempre ordenar para não perder a sequencia dos acontecimentos"
   ],
   "cell_type": "markdown",
   "metadata": {}
  },
  {
   "cell_type": "code",
   "execution_count": 32,
   "metadata": {},
   "outputs": [
    {
     "output_type": "execute_result",
     "data": {
      "text/plain": [
       "     userId                   venueId           venueCategoryId  \\\n",
       "35     1032  4bf5cedf4d5f20a1833d98fe  4bf58dd8d48988d1f9931735   \n",
       "52     1032  4e6657e7d4c06542ac9acee2  4bf58dd8d48988d177941735   \n",
       "163     725  4b150df9f964a52011a823e3  4bf58dd8d48988d124941735   \n",
       "286     371  4e6d90f02271a8cabfdbfb27  4bf58dd8d48988d1f9931735   \n",
       "287     371  4c60606413791b8dc5624faf  4bf58dd8d48988d1f9931735   \n",
       "\n",
       "      venueCategory   latitude  longitude  timezoneOffset  \\\n",
       "35             Road  40.901058 -74.150763            -240   \n",
       "52   Medical Center  40.885440 -74.138870            -240   \n",
       "163          Office  40.749142 -73.975051            -240   \n",
       "286            Road  40.784864 -73.786329            -240   \n",
       "287            Road  40.786848 -73.789104            -240   \n",
       "\n",
       "                 utcTimestamp  \n",
       "35  2012-04-03 18:18:54+00:00  \n",
       "52  2012-04-03 18:32:27+00:00  \n",
       "163 2012-04-03 19:51:41+00:00  \n",
       "286 2012-04-03 21:12:05+00:00  \n",
       "287 2012-04-03 21:12:23+00:00  "
      ],
      "text/html": "<div>\n<style scoped>\n    .dataframe tbody tr th:only-of-type {\n        vertical-align: middle;\n    }\n\n    .dataframe tbody tr th {\n        vertical-align: top;\n    }\n\n    .dataframe thead th {\n        text-align: right;\n    }\n</style>\n<table border=\"1\" class=\"dataframe\">\n  <thead>\n    <tr style=\"text-align: right;\">\n      <th></th>\n      <th>userId</th>\n      <th>venueId</th>\n      <th>venueCategoryId</th>\n      <th>venueCategory</th>\n      <th>latitude</th>\n      <th>longitude</th>\n      <th>timezoneOffset</th>\n      <th>utcTimestamp</th>\n    </tr>\n  </thead>\n  <tbody>\n    <tr>\n      <th>35</th>\n      <td>1032</td>\n      <td>4bf5cedf4d5f20a1833d98fe</td>\n      <td>4bf58dd8d48988d1f9931735</td>\n      <td>Road</td>\n      <td>40.901058</td>\n      <td>-74.150763</td>\n      <td>-240</td>\n      <td>2012-04-03 18:18:54+00:00</td>\n    </tr>\n    <tr>\n      <th>52</th>\n      <td>1032</td>\n      <td>4e6657e7d4c06542ac9acee2</td>\n      <td>4bf58dd8d48988d177941735</td>\n      <td>Medical Center</td>\n      <td>40.885440</td>\n      <td>-74.138870</td>\n      <td>-240</td>\n      <td>2012-04-03 18:32:27+00:00</td>\n    </tr>\n    <tr>\n      <th>163</th>\n      <td>725</td>\n      <td>4b150df9f964a52011a823e3</td>\n      <td>4bf58dd8d48988d124941735</td>\n      <td>Office</td>\n      <td>40.749142</td>\n      <td>-73.975051</td>\n      <td>-240</td>\n      <td>2012-04-03 19:51:41+00:00</td>\n    </tr>\n    <tr>\n      <th>286</th>\n      <td>371</td>\n      <td>4e6d90f02271a8cabfdbfb27</td>\n      <td>4bf58dd8d48988d1f9931735</td>\n      <td>Road</td>\n      <td>40.784864</td>\n      <td>-73.786329</td>\n      <td>-240</td>\n      <td>2012-04-03 21:12:05+00:00</td>\n    </tr>\n    <tr>\n      <th>287</th>\n      <td>371</td>\n      <td>4c60606413791b8dc5624faf</td>\n      <td>4bf58dd8d48988d1f9931735</td>\n      <td>Road</td>\n      <td>40.786848</td>\n      <td>-73.789104</td>\n      <td>-240</td>\n      <td>2012-04-03 21:12:23+00:00</td>\n    </tr>\n  </tbody>\n</table>\n</div>"
     },
     "metadata": {},
     "execution_count": 32
    }
   ],
   "source": [
    "#Antes da ordenação\n",
    "df.head()"
   ]
  },
  {
   "cell_type": "code",
   "execution_count": 34,
   "metadata": {},
   "outputs": [
    {
     "output_type": "execute_result",
     "data": {
      "text/plain": [
       "      userId                   venueId           venueCategoryId  \\\n",
       "1328      40  4ca3b7a67f84224bf834c758  4bf58dd8d48988d16a941735   \n",
       "3443      40  4c51e802d797e21e020ed67c  4bf58dd8d48988d1b2941735   \n",
       "5501      40  4b0c82edf964a520953e23e3  4bf58dd8d48988d149941735   \n",
       "5670      40  4f81ded6e4b09a147825fde9  4bf58dd8d48988d110951735   \n",
       "5694      40  4a6a0dbcf964a5207bcc1fe3  4bf58dd8d48988d112951735   \n",
       "\n",
       "                  venueCategory   latitude  longitude  timezoneOffset  \\\n",
       "1328                     Bakery  40.760075 -73.826976            -240   \n",
       "3443  College Academic Building  40.770282 -73.735549            -240   \n",
       "5501            Thai Restaurant  40.741183 -73.881230            -240   \n",
       "5670         Salon / Barbershop  40.746021 -73.918332            -240   \n",
       "5694             Hardware Store  40.752394 -73.912969            -240   \n",
       "\n",
       "                  utcTimestamp  \n",
       "1328 2012-04-04 11:41:26+00:00  \n",
       "3443 2012-04-07 15:49:09+00:00  \n",
       "5501 2012-04-08 17:42:07+00:00  \n",
       "5670 2012-04-08 18:54:23+00:00  \n",
       "5694 2012-04-08 19:08:17+00:00  "
      ],
      "text/html": "<div>\n<style scoped>\n    .dataframe tbody tr th:only-of-type {\n        vertical-align: middle;\n    }\n\n    .dataframe tbody tr th {\n        vertical-align: top;\n    }\n\n    .dataframe thead th {\n        text-align: right;\n    }\n</style>\n<table border=\"1\" class=\"dataframe\">\n  <thead>\n    <tr style=\"text-align: right;\">\n      <th></th>\n      <th>userId</th>\n      <th>venueId</th>\n      <th>venueCategoryId</th>\n      <th>venueCategory</th>\n      <th>latitude</th>\n      <th>longitude</th>\n      <th>timezoneOffset</th>\n      <th>utcTimestamp</th>\n    </tr>\n  </thead>\n  <tbody>\n    <tr>\n      <th>1328</th>\n      <td>40</td>\n      <td>4ca3b7a67f84224bf834c758</td>\n      <td>4bf58dd8d48988d16a941735</td>\n      <td>Bakery</td>\n      <td>40.760075</td>\n      <td>-73.826976</td>\n      <td>-240</td>\n      <td>2012-04-04 11:41:26+00:00</td>\n    </tr>\n    <tr>\n      <th>3443</th>\n      <td>40</td>\n      <td>4c51e802d797e21e020ed67c</td>\n      <td>4bf58dd8d48988d1b2941735</td>\n      <td>College Academic Building</td>\n      <td>40.770282</td>\n      <td>-73.735549</td>\n      <td>-240</td>\n      <td>2012-04-07 15:49:09+00:00</td>\n    </tr>\n    <tr>\n      <th>5501</th>\n      <td>40</td>\n      <td>4b0c82edf964a520953e23e3</td>\n      <td>4bf58dd8d48988d149941735</td>\n      <td>Thai Restaurant</td>\n      <td>40.741183</td>\n      <td>-73.881230</td>\n      <td>-240</td>\n      <td>2012-04-08 17:42:07+00:00</td>\n    </tr>\n    <tr>\n      <th>5670</th>\n      <td>40</td>\n      <td>4f81ded6e4b09a147825fde9</td>\n      <td>4bf58dd8d48988d110951735</td>\n      <td>Salon / Barbershop</td>\n      <td>40.746021</td>\n      <td>-73.918332</td>\n      <td>-240</td>\n      <td>2012-04-08 18:54:23+00:00</td>\n    </tr>\n    <tr>\n      <th>5694</th>\n      <td>40</td>\n      <td>4a6a0dbcf964a5207bcc1fe3</td>\n      <td>4bf58dd8d48988d112951735</td>\n      <td>Hardware Store</td>\n      <td>40.752394</td>\n      <td>-73.912969</td>\n      <td>-240</td>\n      <td>2012-04-08 19:08:17+00:00</td>\n    </tr>\n  </tbody>\n</table>\n</div>"
     },
     "metadata": {},
     "execution_count": 34
    }
   ],
   "source": [
    "#Após a ordenação\n",
    "df.sort_values(['userId', 'utcTimestamp'], inplace=True)\n",
    "df.head()"
   ]
  },
  {
   "source": [
    "### Formato dos dados"
   ],
   "cell_type": "markdown",
   "metadata": {}
  },
  {
   "cell_type": "code",
   "execution_count": 35,
   "metadata": {},
   "outputs": [
    {
     "output_type": "stream",
     "name": "stdout",
     "text": [
      "<class 'pandas.core.frame.DataFrame'>\nInt64Index: 4268 entries, 1328 to 222934\nData columns (total 8 columns):\n #   Column           Non-Null Count  Dtype              \n---  ------           --------------  -----              \n 0   userId           4268 non-null   int64              \n 1   venueId          4268 non-null   object             \n 2   venueCategoryId  4268 non-null   object             \n 3   venueCategory    4268 non-null   object             \n 4   latitude         4268 non-null   float64            \n 5   longitude        4268 non-null   float64            \n 6   timezoneOffset   4268 non-null   int64              \n 7   utcTimestamp     4268 non-null   datetime64[ns, UTC]\ndtypes: datetime64[ns, UTC](1), float64(2), int64(2), object(3)\nmemory usage: 460.1+ KB\n"
     ]
    }
   ],
   "source": [
    "df.info()"
   ]
  },
  {
   "cell_type": "code",
   "execution_count": 37,
   "metadata": {},
   "outputs": [
    {
     "output_type": "execute_result",
     "data": {
      "text/plain": [
       "1328     2012-04-04 11:41:26+00:00\n",
       "3443     2012-04-07 15:49:09+00:00\n",
       "5501     2012-04-08 17:42:07+00:00\n",
       "5670     2012-04-08 18:54:23+00:00\n",
       "5694     2012-04-08 19:08:17+00:00\n",
       "                    ...           \n",
       "212935   2013-01-15 23:05:50+00:00\n",
       "220781   2013-02-02 05:37:56+00:00\n",
       "220978   2013-02-02 16:29:15+00:00\n",
       "221248   2013-02-02 22:22:09+00:00\n",
       "222934   2013-02-05 23:32:46+00:00\n",
       "Name: utcTimestamp, Length: 4268, dtype: datetime64[ns, UTC]"
      ]
     },
     "metadata": {},
     "execution_count": 37
    }
   ],
   "source": [
    "#Para que essa coluna de dados seja considerada limpa, precisamos remover o \"+\"\n",
    "df['utcTimestamp']"
   ]
  },
  {
   "cell_type": "code",
   "execution_count": 39,
   "metadata": {},
   "outputs": [
    {
     "output_type": "execute_result",
     "data": {
      "text/plain": [
       "1328     2012-04-04 11:41:26\n",
       "3443     2012-04-07 15:49:09\n",
       "5501     2012-04-08 17:42:07\n",
       "5670     2012-04-08 18:54:23\n",
       "5694     2012-04-08 19:08:17\n",
       "                 ...        \n",
       "212935   2013-01-15 23:05:50\n",
       "220781   2013-02-02 05:37:56\n",
       "220978   2013-02-02 16:29:15\n",
       "221248   2013-02-02 22:22:09\n",
       "222934   2013-02-05 23:32:46\n",
       "Name: utcTimestamp, Length: 4268, dtype: datetime64[ns]"
      ]
     },
     "metadata": {},
     "execution_count": 39
    }
   ],
   "source": [
    "#Colocando variavel na forma correta\n",
    "df['utcTimestamp'] = df['utcTimestamp'].dt.tz_localize(None)\n",
    "df['utcTimestamp']"
   ]
  },
  {
   "cell_type": "code",
   "execution_count": 40,
   "metadata": {},
   "outputs": [
    {
     "output_type": "stream",
     "name": "stdout",
     "text": [
      "<class 'pandas.core.frame.DataFrame'>\nInt64Index: 4268 entries, 1328 to 222934\nData columns (total 8 columns):\n #   Column           Non-Null Count  Dtype         \n---  ------           --------------  -----         \n 0   userId           4268 non-null   category      \n 1   venueId          4268 non-null   category      \n 2   venueCategoryId  4268 non-null   category      \n 3   venueCategory    4268 non-null   category      \n 4   latitude         4268 non-null   float64       \n 5   longitude        4268 non-null   float64       \n 6   timezoneOffset   4268 non-null   int64         \n 7   utcTimestamp     4268 non-null   datetime64[ns]\ndtypes: category(4), datetime64[ns](1), float64(2), int64(1)\nmemory usage: 427.3 KB\n"
     ]
    }
   ],
   "source": [
    "#transformando dados categoricos\n",
    "df['userId'] = pd.Categorical(df['userId'])\n",
    "df['venueId'] = pd.Categorical(df['venueId'])\n",
    "df['venueCategoryId'] = pd.Categorical(df['venueCategoryId'])\n",
    "df['venueCategory'] = pd.Categorical(df['venueCategory'])\n",
    "df.info()"
   ]
  },
  {
   "cell_type": "code",
   "execution_count": 41,
   "metadata": {},
   "outputs": [
    {
     "output_type": "execute_result",
     "data": {
      "text/plain": [
       "        userId                   venueId           venueCategoryId  \\\n",
       "count   4268.0                      4268                      4268   \n",
       "unique    20.0                      1570                       250   \n",
       "top      371.0  4cd1e59fde0f6dcbf7e67363  4bf58dd8d48988d103941735   \n",
       "freq     702.0                       104                       640   \n",
       "mean       NaN                       NaN                       NaN   \n",
       "min        NaN                       NaN                       NaN   \n",
       "25%        NaN                       NaN                       NaN   \n",
       "50%        NaN                       NaN                       NaN   \n",
       "75%        NaN                       NaN                       NaN   \n",
       "max        NaN                       NaN                       NaN   \n",
       "std        NaN                       NaN                       NaN   \n",
       "\n",
       "         venueCategory     latitude    longitude  timezoneOffset  \\\n",
       "count             4268  4268.000000  4268.000000     4268.000000   \n",
       "unique             175          NaN          NaN             NaN   \n",
       "top     Home (private)          NaN          NaN             NaN   \n",
       "freq               640          NaN          NaN             NaN   \n",
       "mean               NaN    40.753622   -73.959803     -255.365511   \n",
       "min                NaN    40.571621   -74.223850     -300.000000   \n",
       "25%                NaN    40.721352   -73.998859     -300.000000   \n",
       "50%                NaN    40.757823   -73.972626     -240.000000   \n",
       "75%                NaN    40.781685   -73.922552     -240.000000   \n",
       "max                NaN    40.982940   -73.686199     -240.000000   \n",
       "std                NaN     0.067790     0.111135       26.191458   \n",
       "\n",
       "                         utcTimestamp  \n",
       "count                            4268  \n",
       "unique                            NaN  \n",
       "top                               NaN  \n",
       "freq                              NaN  \n",
       "mean    2012-07-29 19:47:48.092312064  \n",
       "min               2012-04-03 18:18:54  \n",
       "25%     2012-05-11 18:55:59.249999872  \n",
       "50%               2012-06-11 14:37:28  \n",
       "75%               2012-11-06 22:46:36  \n",
       "max               2013-02-14 00:17:29  \n",
       "std                               NaN  "
      ],
      "text/html": "<div>\n<style scoped>\n    .dataframe tbody tr th:only-of-type {\n        vertical-align: middle;\n    }\n\n    .dataframe tbody tr th {\n        vertical-align: top;\n    }\n\n    .dataframe thead th {\n        text-align: right;\n    }\n</style>\n<table border=\"1\" class=\"dataframe\">\n  <thead>\n    <tr style=\"text-align: right;\">\n      <th></th>\n      <th>userId</th>\n      <th>venueId</th>\n      <th>venueCategoryId</th>\n      <th>venueCategory</th>\n      <th>latitude</th>\n      <th>longitude</th>\n      <th>timezoneOffset</th>\n      <th>utcTimestamp</th>\n    </tr>\n  </thead>\n  <tbody>\n    <tr>\n      <th>count</th>\n      <td>4268.0</td>\n      <td>4268</td>\n      <td>4268</td>\n      <td>4268</td>\n      <td>4268.000000</td>\n      <td>4268.000000</td>\n      <td>4268.000000</td>\n      <td>4268</td>\n    </tr>\n    <tr>\n      <th>unique</th>\n      <td>20.0</td>\n      <td>1570</td>\n      <td>250</td>\n      <td>175</td>\n      <td>NaN</td>\n      <td>NaN</td>\n      <td>NaN</td>\n      <td>NaN</td>\n    </tr>\n    <tr>\n      <th>top</th>\n      <td>371.0</td>\n      <td>4cd1e59fde0f6dcbf7e67363</td>\n      <td>4bf58dd8d48988d103941735</td>\n      <td>Home (private)</td>\n      <td>NaN</td>\n      <td>NaN</td>\n      <td>NaN</td>\n      <td>NaN</td>\n    </tr>\n    <tr>\n      <th>freq</th>\n      <td>702.0</td>\n      <td>104</td>\n      <td>640</td>\n      <td>640</td>\n      <td>NaN</td>\n      <td>NaN</td>\n      <td>NaN</td>\n      <td>NaN</td>\n    </tr>\n    <tr>\n      <th>mean</th>\n      <td>NaN</td>\n      <td>NaN</td>\n      <td>NaN</td>\n      <td>NaN</td>\n      <td>40.753622</td>\n      <td>-73.959803</td>\n      <td>-255.365511</td>\n      <td>2012-07-29 19:47:48.092312064</td>\n    </tr>\n    <tr>\n      <th>min</th>\n      <td>NaN</td>\n      <td>NaN</td>\n      <td>NaN</td>\n      <td>NaN</td>\n      <td>40.571621</td>\n      <td>-74.223850</td>\n      <td>-300.000000</td>\n      <td>2012-04-03 18:18:54</td>\n    </tr>\n    <tr>\n      <th>25%</th>\n      <td>NaN</td>\n      <td>NaN</td>\n      <td>NaN</td>\n      <td>NaN</td>\n      <td>40.721352</td>\n      <td>-73.998859</td>\n      <td>-300.000000</td>\n      <td>2012-05-11 18:55:59.249999872</td>\n    </tr>\n    <tr>\n      <th>50%</th>\n      <td>NaN</td>\n      <td>NaN</td>\n      <td>NaN</td>\n      <td>NaN</td>\n      <td>40.757823</td>\n      <td>-73.972626</td>\n      <td>-240.000000</td>\n      <td>2012-06-11 14:37:28</td>\n    </tr>\n    <tr>\n      <th>75%</th>\n      <td>NaN</td>\n      <td>NaN</td>\n      <td>NaN</td>\n      <td>NaN</td>\n      <td>40.781685</td>\n      <td>-73.922552</td>\n      <td>-240.000000</td>\n      <td>2012-11-06 22:46:36</td>\n    </tr>\n    <tr>\n      <th>max</th>\n      <td>NaN</td>\n      <td>NaN</td>\n      <td>NaN</td>\n      <td>NaN</td>\n      <td>40.982940</td>\n      <td>-73.686199</td>\n      <td>-240.000000</td>\n      <td>2013-02-14 00:17:29</td>\n    </tr>\n    <tr>\n      <th>std</th>\n      <td>NaN</td>\n      <td>NaN</td>\n      <td>NaN</td>\n      <td>NaN</td>\n      <td>0.067790</td>\n      <td>0.111135</td>\n      <td>26.191458</td>\n      <td>NaN</td>\n    </tr>\n  </tbody>\n</table>\n</div>"
     },
     "metadata": {},
     "execution_count": 41
    }
   ],
   "source": [
    "#Descrição de dados\n",
    "df.describe(include='all', datetime_is_numeric=True)"
   ]
  }
 ]
}